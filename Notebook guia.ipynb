{
 "cells": [
  {
   "cell_type": "markdown",
   "id": "709bf9ff",
   "metadata": {},
   "source": [
    "# Desafío 1 - IA TESICamp"
   ]
  },
  {
   "cell_type": "markdown",
   "id": "8e25092e",
   "metadata": {},
   "source": [
    "### Notebook guía\n",
    "Este Jupyter Notebook te dará instrucciones para crear una solución al Desafío 1 de IA en el TESIChallenge.\n"
   ]
  },
  {
   "cell_type": "markdown",
   "id": "41c37f6a",
   "metadata": {},
   "source": [
    "### Exploración de datos\n",
    "El primer paso paso desarollar una solución es elegir las herramientas, hay muchas bibliotecas de Python que se pueden utilizar para el procesamiento y la visualización de datos. En este caso usaremos Pandas, Seaborn y Matplotlib."
   ]
  },
  {
   "cell_type": "code",
   "execution_count": 3,
   "id": "68ee1161",
   "metadata": {},
   "outputs": [],
   "source": [
    "import pandas as pd\n",
    "import matplotlib.pyplot as plt\n",
    "import seaborn as sns"
   ]
  },
  {
   "cell_type": "markdown",
   "id": "40a44b38",
   "metadata": {},
   "source": [
    "Una vez que cargamos nuestras bibliotecas podemo pasar a cargar los datos para esto utilizaremos la función \"read_csv\" de pandas."
   ]
  },
  {
   "cell_type": "code",
   "execution_count": 4,
   "id": "92221533",
   "metadata": {},
   "outputs": [],
   "source": [
    "datos = pd.read_csv('datos/coordenadas.csv')  "
   ]
  },
  {
   "cell_type": "markdown",
   "id": "79ba98bd",
   "metadata": {},
   "source": [
    "Podemos usar los métodos .info () y .describe () para obtener información básica sobre la cantidad actual de datos, sus tipos y valores."
   ]
  },
  {
   "cell_type": "code",
   "execution_count": 5,
   "id": "b098eddf",
   "metadata": {},
   "outputs": [
    {
     "name": "stdout",
     "output_type": "stream",
     "text": [
      "<class 'pandas.core.frame.DataFrame'>\n",
      "RangeIndex: 61 entries, 0 to 60\n",
      "Data columns (total 3 columns):\n",
      " #   Column    Non-Null Count  Dtype  \n",
      "---  ------    --------------  -----  \n",
      " 0   Colonia   61 non-null     object \n",
      " 1   Latitud   61 non-null     float64\n",
      " 2   Longitud  61 non-null     float64\n",
      "dtypes: float64(2), object(1)\n",
      "memory usage: 1.6+ KB\n"
     ]
    }
   ],
   "source": [
    "datos.info()"
   ]
  },
  {
   "cell_type": "code",
   "execution_count": 6,
   "id": "c2ea8554",
   "metadata": {},
   "outputs": [
    {
     "data": {
      "text/html": [
       "<div>\n",
       "<style scoped>\n",
       "    .dataframe tbody tr th:only-of-type {\n",
       "        vertical-align: middle;\n",
       "    }\n",
       "\n",
       "    .dataframe tbody tr th {\n",
       "        vertical-align: top;\n",
       "    }\n",
       "\n",
       "    .dataframe thead th {\n",
       "        text-align: right;\n",
       "    }\n",
       "</style>\n",
       "<table border=\"1\" class=\"dataframe\">\n",
       "  <thead>\n",
       "    <tr style=\"text-align: right;\">\n",
       "      <th></th>\n",
       "      <th>Latitud</th>\n",
       "      <th>Longitud</th>\n",
       "    </tr>\n",
       "  </thead>\n",
       "  <tbody>\n",
       "    <tr>\n",
       "      <th>count</th>\n",
       "      <td>61.000000</td>\n",
       "      <td>61.000000</td>\n",
       "    </tr>\n",
       "    <tr>\n",
       "      <th>mean</th>\n",
       "      <td>19.321186</td>\n",
       "      <td>-98.903862</td>\n",
       "    </tr>\n",
       "    <tr>\n",
       "      <th>std</th>\n",
       "      <td>0.015748</td>\n",
       "      <td>0.031403</td>\n",
       "    </tr>\n",
       "    <tr>\n",
       "      <th>min</th>\n",
       "      <td>19.292192</td>\n",
       "      <td>-98.947491</td>\n",
       "    </tr>\n",
       "    <tr>\n",
       "      <th>25%</th>\n",
       "      <td>19.311296</td>\n",
       "      <td>-98.930115</td>\n",
       "    </tr>\n",
       "    <tr>\n",
       "      <th>50%</th>\n",
       "      <td>19.320622</td>\n",
       "      <td>-98.909760</td>\n",
       "    </tr>\n",
       "    <tr>\n",
       "      <th>75%</th>\n",
       "      <td>19.327468</td>\n",
       "      <td>-98.887281</td>\n",
       "    </tr>\n",
       "    <tr>\n",
       "      <th>max</th>\n",
       "      <td>19.383466</td>\n",
       "      <td>-98.818836</td>\n",
       "    </tr>\n",
       "  </tbody>\n",
       "</table>\n",
       "</div>"
      ],
      "text/plain": [
       "         Latitud   Longitud\n",
       "count  61.000000  61.000000\n",
       "mean   19.321186 -98.903862\n",
       "std     0.015748   0.031403\n",
       "min    19.292192 -98.947491\n",
       "25%    19.311296 -98.930115\n",
       "50%    19.320622 -98.909760\n",
       "75%    19.327468 -98.887281\n",
       "max    19.383466 -98.818836"
      ]
     },
     "execution_count": 6,
     "metadata": {},
     "output_type": "execute_result"
    }
   ],
   "source": [
    "datos.describe()"
   ]
  },
  {
   "cell_type": "markdown",
   "id": "1ec68a04",
   "metadata": {},
   "source": [
    "## Procesamiento de datos\n",
    "Ahora tienes los datos para poder iniciar la búsqueda de la ruta más corta, para esto enlista las colonias colocando en la primera posición la colonia que visitaras primero y después la segunda y así sucesivamente.  \n",
    "Donde la distancia d está dada por:\n",
    "\n",
    "![](imagenes/formula.png)\n",
    "\n",
    "r = radio de la tierra 6,371.0\n",
    "\n",
    "$\\lambda_1$ = longitud 1\n",
    "\n",
    "$\\lambda_2$ = longitud 2\n",
    "\n",
    "$\\phi_1$ = latitud 1\n",
    "\n",
    "$\\phi_2$ = latitud 2\n",
    "\n",
    "Otra opción es usar la función *distance* de la biblioteca *geopy* que nos ayuda a calcular la distancia entre dos colonias.\n"
   ]
  },
  {
   "cell_type": "code",
   "execution_count": 7,
   "id": "f95a9cf1",
   "metadata": {},
   "outputs": [
    {
     "name": "stdout",
     "output_type": "stream",
     "text": [
      "Requirement already satisfied: geopy in c:\\users\\cesar\\appdata\\local\\programs\\python\\python39\\lib\\site-packages (2.2.0)\n",
      "Requirement already satisfied: geographiclib<2,>=1.49 in c:\\users\\cesar\\appdata\\local\\programs\\python\\python39\\lib\\site-packages (from geopy) (1.52)\n"
     ]
    },
    {
     "name": "stderr",
     "output_type": "stream",
     "text": [
      "WARNING: You are using pip version 21.2.3; however, version 21.3.1 is available.\n",
      "You should consider upgrading via the 'C:\\Users\\cesar\\AppData\\Local\\Programs\\Python\\Python39\\python.exe -m pip install --upgrade pip' command.\n"
     ]
    }
   ],
   "source": [
    "#Instalamos la biblioteca si es necesario\n",
    "!pip install geopy"
   ]
  },
  {
   "cell_type": "code",
   "execution_count": 8,
   "id": "10ee1121",
   "metadata": {},
   "outputs": [
    {
     "name": "stdout",
     "output_type": "stream",
     "text": [
      "La distancia entre la colonia 1 y la colonia 2 es: 1.8117472016362757\n"
     ]
    }
   ],
   "source": [
    "from geopy import distance\n",
    "\n",
    "colonia1 = (datos['Latitud'][0], datos['Longitud'][0])\n",
    "colonia2 = (datos['Latitud'][1], datos['Longitud'][1])\n",
    "distancia = distance.distance(colonia1,colonia2).km\n",
    "print(\"La distancia entre la colonia 1 y la colonia 2 es: \" + str(distancia))\n"
   ]
  },
  {
   "cell_type": "code",
   "execution_count": 9,
   "id": "b6729b1c",
   "metadata": {},
   "outputs": [],
   "source": [
    "## Algoritmo para buscar la ruta mas corta sumando las distancias.\n",
    "resultados = datos[\"Colonia\"]\n",
    "resultados = resultados.sort_values()"
   ]
  },
  {
   "cell_type": "code",
   "execution_count": 11,
   "id": "47bad5ae",
   "metadata": {},
   "outputs": [
    {
     "data": {
      "image/png": "[encoded data removed]",
      "text/plain": [
       "<Figure size 432x288 with 1 Axes>"
      ]
     },
     "metadata": {
      "needs_background": "light"
     },
     "output_type": "display_data"
    }
   ],
   "source": [
    "import matplotlib.pyplot as plt\n",
    "plt.scatter(datos['Latitud'], datos['Longitud'])\n",
    "plt.show()"
   ]
  },
  {
   "cell_type": "code",
   "execution_count": 33,
   "id": "60254a48",
   "metadata": {},
   "outputs": [
    {
     "data": {
      "text/plain": [
       "<matplotlib.collections.PathCollection at 0x207c378aee0>"
      ]
     },
     "execution_count": 33,
     "metadata": {},
     "output_type": "execute_result"
    },
    {
     "data": {
      "image/png": "[encoded data removed]",
      "text/plain": [
       "<Figure size 432x288 with 1 Axes>"
      ]
     },
     "metadata": {
      "needs_background": "light"
     },
     "output_type": "display_data"
    }
   ],
   "source": [
    "from sklearn.cluster import KMeans\n",
    "import numpy as np\n",
    "X =datos[['Latitud','Longitud']]\n",
    "kmeans = KMeans(n_clusters=3, random_state=0).fit(X)\n",
    "\n",
    "# Predicting the clusters\n",
    "labels = kmeans.predict(X)\n",
    "# Getting the cluster centers\n",
    "C = kmeans.cluster_centers_\n",
    "colores=['red','green','blue']\n",
    "asignar=[]\n",
    "for row in labels:\n",
    "    asignar.append(colores[row])\n",
    "\n",
    "plt.figure()\n",
    "plt.scatter(X['Latitud'],X['Longitud'], c=asignar,s=60)\n",
    "plt.scatter(C[:, 0], C[:, 1], marker='*', c=colores, s=1000)"
   ]
  },
  {
   "cell_type": "code",
   "execution_count": 28,
   "id": "822d96e2",
   "metadata": {},
   "outputs": [
    {
     "data": {
      "text/plain": [
       "['green',\n",
       " 'green',\n",
       " 'green',\n",
       " 'blue',\n",
       " 'red',\n",
       " 'red',\n",
       " 'red',\n",
       " 'red',\n",
       " 'red',\n",
       " 'green',\n",
       " 'red',\n",
       " 'green',\n",
       " 'green',\n",
       " 'red',\n",
       " 'green',\n",
       " 'green',\n",
       " 'green',\n",
       " 'green',\n",
       " 'green',\n",
       " 'red',\n",
       " 'green',\n",
       " 'red',\n",
       " 'green',\n",
       " 'red',\n",
       " 'red',\n",
       " 'red',\n",
       " 'red',\n",
       " 'green',\n",
       " 'red',\n",
       " 'red',\n",
       " 'red',\n",
       " 'red',\n",
       " 'red',\n",
       " 'green',\n",
       " 'red',\n",
       " 'red',\n",
       " 'red',\n",
       " 'red',\n",
       " 'blue',\n",
       " 'red',\n",
       " 'blue',\n",
       " 'blue',\n",
       " 'blue',\n",
       " 'blue',\n",
       " 'red',\n",
       " 'red',\n",
       " 'red',\n",
       " 'red',\n",
       " 'red',\n",
       " 'green',\n",
       " 'blue',\n",
       " 'green',\n",
       " 'blue',\n",
       " 'green',\n",
       " 'green',\n",
       " 'green',\n",
       " 'green',\n",
       " 'red',\n",
       " 'blue',\n",
       " 'red',\n",
       " 'blue']"
      ]
     },
     "execution_count": 28,
     "metadata": {},
     "output_type": "execute_result"
    }
   ],
   "source": [
    "asignar"
   ]
  },
  {
   "cell_type": "markdown",
   "id": "bf003062",
   "metadata": {},
   "source": [
    "## Resultado\n",
    "Una vez que tengas el orden de las colonias guárdalo en un archivo .csv para que pueda entregar tu resultado."
   ]
  },
  {
   "cell_type": "code",
   "execution_count": 8,
   "id": "4c05e6f7",
   "metadata": {},
   "outputs": [],
   "source": [
    "resultados.to_csv(\"datos/resultados.csv\", index=False)"
   ]
  },
  {
   "cell_type": "markdown",
   "id": "d51a42e1",
   "metadata": {},
   "source": [
    "Esta archivo \"resultados.csv\" es el que tienes que enviar.\n",
    "\n",
    "# ¡Felicitaciones has terminado el reto!\n"
   ]
  }
 ],
 "metadata": {
  "kernelspec": {
   "display_name": "Python 3 (ipykernel)",
   "language": "python",
   "name": "python3"
  },
  "language_info": {
   "codemirror_mode": {
    "name": "ipython",
    "version": 3
   },
   "file_extension": ".py",
   "mimetype": "text/x-python",
   "name": "python",
   "nbconvert_exporter": "python",
   "pygments_lexer": "ipython3",
   "version": "3.9.7"
  }
 },
 "nbformat": 4,
 "nbformat_minor": 5
}
