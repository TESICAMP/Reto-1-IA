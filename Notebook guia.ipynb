{
 "cells": [
  {
   "cell_type": "markdown",
   "id": "709bf9ff",
   "metadata": {},
   "source": [
    "# Reto 1 - IA TESICamp"
   ]
  },
  {
   "cell_type": "markdown",
   "id": "8e25092e",
   "metadata": {},
   "source": [
    "### Notebook guía\n",
    "Este Jupyter Notebook te dará instrucciones para crear una solución al Desafío 1 de IA en el TESIChallenge.\n"
   ]
  },
  {
   "cell_type": "markdown",
   "id": "41c37f6a",
   "metadata": {},
   "source": [
    "### Exploración de datos\n",
    "El primer paso paso desarollar una solución es elegir las herramientas, hay muchas bibliotecas de Python que se pueden utilizar para el procesamiento y la visualización de datos. En este caso usaremos Pandas, Seaborn y Matplotlib."
   ]
  },
  {
   "cell_type": "code",
   "execution_count": 21,
   "id": "68ee1161",
   "metadata": {},
   "outputs": [],
   "source": [
    "import pandas as pd\n",
    "import matplotlib.pyplot as plt\n",
    "import seaborn as sns"
   ]
  },
  {
   "cell_type": "markdown",
   "id": "40a44b38",
   "metadata": {},
   "source": [
    "Una vez que cargamos nuestras bibliotecas podemo pasar a cargar los datos para esto utilizaremos la función \"read_csv\" de pandas."
   ]
  },
  {
   "cell_type": "code",
   "execution_count": 22,
   "id": "92221533",
   "metadata": {},
   "outputs": [],
   "source": [
    "datos = pd.read_csv('datos/coordenadas.csv')  "
   ]
  },
  {
   "cell_type": "markdown",
   "id": "79ba98bd",
   "metadata": {},
   "source": [
    "Podemos usar los métodos .info () y .describe () para obtener información básica sobre la cantidad actual de datos, sus tipos y valores."
   ]
  },
  {
   "cell_type": "code",
   "execution_count": 23,
   "id": "b098eddf",
   "metadata": {},
   "outputs": [
    {
     "name": "stdout",
     "output_type": "stream",
     "text": [
      "<class 'pandas.core.frame.DataFrame'>\n",
      "RangeIndex: 61 entries, 0 to 60\n",
      "Data columns (total 3 columns):\n",
      " #   Column    Non-Null Count  Dtype  \n",
      "---  ------    --------------  -----  \n",
      " 0   Colonia   61 non-null     object \n",
      " 1   Latitud   61 non-null     float64\n",
      " 2   Longitud  61 non-null     float64\n",
      "dtypes: float64(2), object(1)\n",
      "memory usage: 1.6+ KB\n"
     ]
    }
   ],
   "source": [
    "datos.info()"
   ]
  },
  {
   "cell_type": "code",
   "execution_count": 24,
   "id": "c2ea8554",
   "metadata": {},
   "outputs": [
    {
     "data": {
      "text/html": [
       "<div>\n",
       "<style scoped>\n",
       "    .dataframe tbody tr th:only-of-type {\n",
       "        vertical-align: middle;\n",
       "    }\n",
       "\n",
       "    .dataframe tbody tr th {\n",
       "        vertical-align: top;\n",
       "    }\n",
       "\n",
       "    .dataframe thead th {\n",
       "        text-align: right;\n",
       "    }\n",
       "</style>\n",
       "<table border=\"1\" class=\"dataframe\">\n",
       "  <thead>\n",
       "    <tr style=\"text-align: right;\">\n",
       "      <th></th>\n",
       "      <th>Latitud</th>\n",
       "      <th>Longitud</th>\n",
       "    </tr>\n",
       "  </thead>\n",
       "  <tbody>\n",
       "    <tr>\n",
       "      <th>count</th>\n",
       "      <td>61.000000</td>\n",
       "      <td>61.000000</td>\n",
       "    </tr>\n",
       "    <tr>\n",
       "      <th>mean</th>\n",
       "      <td>19.321186</td>\n",
       "      <td>-98.903862</td>\n",
       "    </tr>\n",
       "    <tr>\n",
       "      <th>std</th>\n",
       "      <td>0.015748</td>\n",
       "      <td>0.031403</td>\n",
       "    </tr>\n",
       "    <tr>\n",
       "      <th>min</th>\n",
       "      <td>19.292192</td>\n",
       "      <td>-98.947491</td>\n",
       "    </tr>\n",
       "    <tr>\n",
       "      <th>25%</th>\n",
       "      <td>19.311296</td>\n",
       "      <td>-98.930115</td>\n",
       "    </tr>\n",
       "    <tr>\n",
       "      <th>50%</th>\n",
       "      <td>19.320622</td>\n",
       "      <td>-98.909760</td>\n",
       "    </tr>\n",
       "    <tr>\n",
       "      <th>75%</th>\n",
       "      <td>19.327468</td>\n",
       "      <td>-98.887281</td>\n",
       "    </tr>\n",
       "    <tr>\n",
       "      <th>max</th>\n",
       "      <td>19.383466</td>\n",
       "      <td>-98.818836</td>\n",
       "    </tr>\n",
       "  </tbody>\n",
       "</table>\n",
       "</div>"
      ],
      "text/plain": [
       "         Latitud   Longitud\n",
       "count  61.000000  61.000000\n",
       "mean   19.321186 -98.903862\n",
       "std     0.015748   0.031403\n",
       "min    19.292192 -98.947491\n",
       "25%    19.311296 -98.930115\n",
       "50%    19.320622 -98.909760\n",
       "75%    19.327468 -98.887281\n",
       "max    19.383466 -98.818836"
      ]
     },
     "execution_count": 24,
     "metadata": {},
     "output_type": "execute_result"
    }
   ],
   "source": [
    "datos.describe()"
   ]
  },
  {
   "cell_type": "markdown",
   "id": "2cadf158",
   "metadata": {},
   "source": [
    "El primer paso puede ser generar una gráfica para ubicar las coordenadas de las colonias"
   ]
  },
  {
   "cell_type": "code",
   "execution_count": 25,
   "id": "47bad5ae",
   "metadata": {},
   "outputs": [
    {
     "data": {
      "image/png": "[encoded data removed]",
      "text/plain": [
       "<Figure size 432x288 with 1 Axes>"
      ]
     },
     "metadata": {
      "needs_background": "light"
     },
     "output_type": "display_data"
    }
   ],
   "source": [
    "plt.scatter(datos['Latitud'], datos['Longitud'])\n",
    "plt.xlabel(\"Latitud\")\n",
    "plt.ylabel(\"Longitud\")\n",
    "plt.show()"
   ]
  },
  {
   "cell_type": "code",
   "execution_count": 26,
   "id": "a9bef3ae",
   "metadata": {},
   "outputs": [
    {
     "data": {
      "text/html": [
       "<div>\n",
       "<style scoped>\n",
       "    .dataframe tbody tr th:only-of-type {\n",
       "        vertical-align: middle;\n",
       "    }\n",
       "\n",
       "    .dataframe tbody tr th {\n",
       "        vertical-align: top;\n",
       "    }\n",
       "\n",
       "    .dataframe thead th {\n",
       "        text-align: right;\n",
       "    }\n",
       "</style>\n",
       "<table border=\"1\" class=\"dataframe\">\n",
       "  <thead>\n",
       "    <tr style=\"text-align: right;\">\n",
       "      <th></th>\n",
       "      <th>Latitud</th>\n",
       "      <th>Longitud</th>\n",
       "    </tr>\n",
       "  </thead>\n",
       "  <tbody>\n",
       "    <tr>\n",
       "      <th>0</th>\n",
       "      <td>19.30</td>\n",
       "      <td>-98.86</td>\n",
       "    </tr>\n",
       "    <tr>\n",
       "      <th>1</th>\n",
       "      <td>19.32</td>\n",
       "      <td>-98.90</td>\n",
       "    </tr>\n",
       "    <tr>\n",
       "      <th>2</th>\n",
       "      <td>19.34</td>\n",
       "      <td>-98.94</td>\n",
       "    </tr>\n",
       "  </tbody>\n",
       "</table>\n",
       "</div>"
      ],
      "text/plain": [
       "   Latitud  Longitud\n",
       "0    19.30    -98.86\n",
       "1    19.32    -98.90\n",
       "2    19.34    -98.94"
      ]
     },
     "execution_count": 26,
     "metadata": {},
     "output_type": "execute_result"
    }
   ],
   "source": [
    "#genera tu función para calcula la ubicación de los módulos\n",
    "\n",
    "modulosCoordenadas = {\n",
    "    'Latitud' : [19.3, 19.32, 19.34],\n",
    "    'Longitud': [-98.86,-98.90, -98.94]\n",
    "}\n",
    "\n",
    "modulos = pd.DataFrame(modulosCoordenadas)\n",
    "\n",
    "modulos.head()\n"
   ]
  },
  {
   "cell_type": "markdown",
   "id": "5283bf7d",
   "metadata": {},
   "source": [
    "Puedes graficar las coordenadas propuesta para ver la relación con los otros municipios."
   ]
  },
  {
   "cell_type": "code",
   "execution_count": 27,
   "id": "60254a48",
   "metadata": {},
   "outputs": [
    {
     "data": {
      "image/png": "[encoded data removed]",
      "text/plain": [
       "<Figure size 432x288 with 1 Axes>"
      ]
     },
     "metadata": {
      "needs_background": "light"
     },
     "output_type": "display_data"
    }
   ],
   "source": [
    "plt.scatter(datos['Latitud'], datos['Longitud'])\n",
    "plt.scatter(modulos['Latitud'], modulos['Longitud'], marker='*', s=1000)\n",
    "plt.xlabel(\"Latitud\")\n",
    "plt.ylabel(\"Longitud\")\n",
    "plt.show()"
   ]
  },
  {
   "cell_type": "markdown",
   "id": "bf003062",
   "metadata": {},
   "source": [
    "## Resultado\n",
    "Una vez que tengas las coordenadas de módulos guarda el dataframe \"modulos\" en un archivo csv y envíalo para ser evaluado."
   ]
  },
  {
   "cell_type": "code",
   "execution_count": 28,
   "id": "4c05e6f7",
   "metadata": {},
   "outputs": [],
   "source": [
    "modulos.to_csv(\"datos/resultados.csv\", index=False)"
   ]
  },
  {
   "cell_type": "markdown",
   "id": "a60d8710",
   "metadata": {},
   "source": [
    "# Evaluación\n",
    "\n",
    "Para evaluar tu respuesta de usará la siguiente función:\n",
    "\n",
    "$puntaje = \\sum_{i=1}^{3}\\sum_{x_j \\in S_i} \\parallel x_j - \\mu_i \\parallel^2$\n",
    "\n",
    "donde:\n",
    "\n",
    "$i$ = El número de módulos\n",
    "\n",
    "$x$ = Distancia del módulo a la colonia j\n",
    "\n",
    "$S_i$ = Grupo de colonias mas cercanas a módulo i.\n",
    "\n",
    "$\\mu_i$ = Distancia promedio de las colonias mas cercanas a módulo i.\n",
    "\n",
    "El menor puntaje será el ganador."
   ]
  },
  {
   "cell_type": "markdown",
   "id": "d51a42e1",
   "metadata": {},
   "source": [
    "Esta archivo \"resultados.csv\" es el que tienes que enviar.\n",
    "\n",
    "# ¡Felicitaciones has terminado el reto!\n"
   ]
  }
 ],
 "metadata": {
  "kernelspec": {
   "display_name": "Python 3 (ipykernel)",
   "language": "python",
   "name": "python3"
  },
  "language_info": {
   "codemirror_mode": {
    "name": "ipython",
    "version": 3
   },
   "file_extension": ".py",
   "mimetype": "text/x-python",
   "name": "python",
   "nbconvert_exporter": "python",
   "pygments_lexer": "ipython3",
   "version": "3.9.7"
  }
 },
 "nbformat": 4,
 "nbformat_minor": 5
}
